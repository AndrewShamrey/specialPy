{
  "nbformat": 4,
  "nbformat_minor": 0,
  "metadata": {
    "colab": {
      "name": "Problem1.ipynb",
      "provenance": [],
      "collapsed_sections": [],
      "authorship_tag": "ABX9TyOj45DPi2tevybiu0xQlPvL",
      "include_colab_link": true
    },
    "kernelspec": {
      "name": "python3",
      "display_name": "Python 3"
    },
    "language_info": {
      "name": "python"
    }
  },
  "cells": [
    {
      "cell_type": "markdown",
      "metadata": {
        "id": "view-in-github",
        "colab_type": "text"
      },
      "source": [
        "<a href=\"https://colab.research.google.com/github/AndrewShamrey/specialPy/blob/main/Problem1.ipynb\" target=\"_parent\"><img src=\"https://colab.research.google.com/assets/colab-badge.svg\" alt=\"Open In Colab\"/></a>"
      ]
    },
    {
      "cell_type": "code",
      "metadata": {
        "id": "knQ6vHW96NUR"
      },
      "source": [
        "import pandas as pd\n",
        "url = 'https://raw.githubusercontent.com/AndrewShamrey/specialPy/main/Problem1.csv'\n",
        "allData = pd.read_csv(url)"
      ],
      "execution_count": 161,
      "outputs": []
    },
    {
      "cell_type": "markdown",
      "metadata": {
        "id": "8NHnTl_OYRvb"
      },
      "source": [
        "#Наиболее популярные книги для разных возрастных категорий\n",
        "\n",
        "---\n",
        "\n"
      ]
    },
    {
      "cell_type": "code",
      "metadata": {
        "colab": {
          "base_uri": "https://localhost:8080/",
          "height": 170
        },
        "id": "R1P3rSWTYXqj",
        "outputId": "bf72ea44-4d98-4e34-afea-1f52e1055d8b"
      },
      "source": [
        "small = allData[allData.Age < 18]\n",
        "medium = allData[allData.Age <= 51][allData.Age >= 30]\n",
        "large = allData[allData.Age > 100]\n",
        "\n",
        "smallRanged = small.Answer.value_counts()\n",
        "mediumRanged = medium.Answer.value_counts()\n",
        "largeRanged = large.Answer.value_counts()\n",
        "\n",
        "result = pd.DataFrame([['<18', smallRanged.index[0], smallRanged.max()],\n",
        "                      ['30-50', mediumRanged.index[0], mediumRanged.max()],\n",
        "                      ['>100', largeRanged.index[0], largeRanged.max()]], \n",
        "                      columns=['group', 'name', 'count'])\n",
        "\n",
        "result"
      ],
      "execution_count": 162,
      "outputs": [
        {
          "output_type": "stream",
          "text": [
            "/usr/local/lib/python3.7/dist-packages/ipykernel_launcher.py:2: UserWarning: Boolean Series key will be reindexed to match DataFrame index.\n",
            "  \n"
          ],
          "name": "stderr"
        },
        {
          "output_type": "execute_result",
          "data": {
            "text/html": [
              "<div>\n",
              "<style scoped>\n",
              "    .dataframe tbody tr th:only-of-type {\n",
              "        vertical-align: middle;\n",
              "    }\n",
              "\n",
              "    .dataframe tbody tr th {\n",
              "        vertical-align: top;\n",
              "    }\n",
              "\n",
              "    .dataframe thead th {\n",
              "        text-align: right;\n",
              "    }\n",
              "</style>\n",
              "<table border=\"1\" class=\"dataframe\">\n",
              "  <thead>\n",
              "    <tr style=\"text-align: right;\">\n",
              "      <th></th>\n",
              "      <th>group</th>\n",
              "      <th>name</th>\n",
              "      <th>count</th>\n",
              "    </tr>\n",
              "  </thead>\n",
              "  <tbody>\n",
              "    <tr>\n",
              "      <th>0</th>\n",
              "      <td>&lt;18</td>\n",
              "      <td>De Vermis Mysteriis</td>\n",
              "      <td>19</td>\n",
              "    </tr>\n",
              "    <tr>\n",
              "      <th>1</th>\n",
              "      <td>30-50</td>\n",
              "      <td>Cultes des Goules</td>\n",
              "      <td>18</td>\n",
              "    </tr>\n",
              "    <tr>\n",
              "      <th>2</th>\n",
              "      <td>&gt;100</td>\n",
              "      <td>Unaussprechlichen Kulten</td>\n",
              "      <td>36</td>\n",
              "    </tr>\n",
              "  </tbody>\n",
              "</table>\n",
              "</div>"
            ],
            "text/plain": [
              "   group                      name  count\n",
              "0    <18       De Vermis Mysteriis     19\n",
              "1  30-50         Cultes des Goules     18\n",
              "2   >100  Unaussprechlichen Kulten     36"
            ]
          },
          "metadata": {
            "tags": []
          },
          "execution_count": 162
        }
      ]
    },
    {
      "cell_type": "markdown",
      "metadata": {
        "id": "yd_-p_qtKEcw"
      },
      "source": [
        "#Barplot для возрастной категории от 30 до 50 с количеством упоминаний каждой из популярных книг.\n",
        "\n",
        "---\n",
        "\n"
      ]
    },
    {
      "cell_type": "code",
      "metadata": {
        "colab": {
          "base_uri": "https://localhost:8080/",
          "height": 282
        },
        "id": "t_mqkFPMKKMR",
        "outputId": "aba80e58-2019-46b7-909f-b5f25dc0404c"
      },
      "source": [
        "mediumRanged.plot.bar(rot=0, color='pink', figsize=[10, 4])"
      ],
      "execution_count": 163,
      "outputs": [
        {
          "output_type": "execute_result",
          "data": {
            "text/plain": [
              "<matplotlib.axes._subplots.AxesSubplot at 0x7fa88797c650>"
            ]
          },
          "metadata": {
            "tags": []
          },
          "execution_count": 163
        },
        {
          "output_type": "display_data",
          "data": {
            "image/png": "[encoded data removed]",
            "text/plain": [
              "<Figure size 720x288 with 1 Axes>"
            ]
          },
          "metadata": {
            "tags": [],
            "needs_background": "light"
          }
        }
      ]
    },
    {
      "cell_type": "markdown",
      "metadata": {
        "id": "7XTnZW5pGtmu"
      },
      "source": [
        "#Гистограмма возрастного распределения всех опрошенных\n",
        "\n",
        "---\n",
        "\n"
      ]
    },
    {
      "cell_type": "code",
      "metadata": {
        "colab": {
          "base_uri": "https://localhost:8080/",
          "height": 541
        },
        "id": "V5cT3gsvG8mG",
        "outputId": "939cca40-726b-4245-b1fd-e1a52f2a3b85"
      },
      "source": [
        "ageRanged = allData.Age.value_counts().sort_index()\n",
        "ageRanged.plot.bar(x='age', y='count', rot=0, color='blue', figsize=[22, 10])"
      ],
      "execution_count": 165,
      "outputs": [
        {
          "output_type": "execute_result",
          "data": {
            "text/plain": [
              "<matplotlib.axes._subplots.AxesSubplot at 0x7fa888c6db10>"
            ]
          },
          "metadata": {
            "tags": []
          },
          "execution_count": 165
        },
        {
          "output_type": "display_data",
          "data": {
            "image/png": "[encoded data removed]",
            "text/plain": [
              "<Figure size 1584x720 with 1 Axes>"
            ]
          },
          "metadata": {
            "tags": [],
            "needs_background": "light"
          }
        }
      ]
    },
    {
      "cell_type": "markdown",
      "metadata": {
        "id": "zycWMXsnDe3q"
      },
      "source": [
        "#Гистограмма возрастного распределения любителей Unaussprechlichen Kulten\n",
        "\n",
        "---\n",
        "\n"
      ]
    },
    {
      "cell_type": "code",
      "metadata": {
        "colab": {
          "base_uri": "https://localhost:8080/",
          "height": 296
        },
        "id": "JvTlg5PMDZG6",
        "outputId": "c575e7bc-2dd2-4c29-ab8b-dddad66e1437"
      },
      "source": [
        "kulten = allData[allData.Answer == 'Unaussprechlichen Kulten']\n",
        "ready = kulten.groupby(['Age'])['Answer'].count()\n",
        "ready.plot.bar(x='age', y='count', rot=0, color='green', figsize=[12, 4])"
      ],
      "execution_count": 166,
      "outputs": [
        {
          "output_type": "execute_result",
          "data": {
            "text/plain": [
              "<matplotlib.axes._subplots.AxesSubplot at 0x7fa8879ec250>"
            ]
          },
          "metadata": {
            "tags": []
          },
          "execution_count": 166
        },
        {
          "output_type": "display_data",
          "data": {
            "image/png": "[encoded data removed]",
            "text/plain": [
              "<Figure size 864x288 with 1 Axes>"
            ]
          },
          "metadata": {
            "tags": [],
            "needs_background": "light"
          }
        }
      ]
    }
  ]
}